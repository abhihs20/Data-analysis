{
 "cells": [
  {
   "cell_type": "markdown",
   "id": "b22ac63a",
   "metadata": {},
   "source": [
    "# NUMPY"
   ]
  },
  {
   "cell_type": "markdown",
   "id": "dd3e66e1",
   "metadata": {},
   "source": [
    "- Python lists are excellent, general-purpose containers. They can be “heterogeneous”, meaning that they can contain elements of a variety of types, and they are quite fast when used to perform individual operations on a handful of elements.\n",
    "\n",
    "- Depending on the characteristics of the data and the types of operations that need to be performed, other containers may be more appropriate; by exploiting these characteristics, we can improve speed, reduce memory consumption, and offer a high-level syntax for performing a variety of common processing tasks. NumPy shines when there are large quantities of “homogeneous” (same-type) data to be processed on the CPU."
   ]
  },
  {
   "cell_type": "markdown",
   "id": "b3ecfac4",
   "metadata": {},
   "source": [
    "# ARRAY "
   ]
  },
  {
   "cell_type": "markdown",
   "id": "74d41ad8",
   "metadata": {},
   "source": [
    "In computer programming, an array is a structure for storing and retrieving data. We often talk about an array as if it were a grid in space, with each cell storing one element of the data. For instance, if each element of the data were a number, we might visualize a “one-dimensional” array like a list:\n",
    "\n",
    "Most NumPy arrays have some restrictions. For instance:\n",
    "\n",
    "All elements of the array must be of the same type of data.\n",
    "\n",
    "Once created, the total size of the array can’t change.\n",
    "\n",
    "The shape must be “rectangular”, not “jagged”; e.g., each row of a two-dimensional array must have the same number of columns.\n",
    "\n",
    "When these conditions are met, NumPy exploits these characteristics to make the array faster, more memory efficient, and more convenient to use than less restrictive data structures."
   ]
  },
  {
   "cell_type": "code",
   "execution_count": 1,
   "id": "b1b7779f",
   "metadata": {},
   "outputs": [],
   "source": [
    "import numpy as np"
   ]
  },
  {
   "cell_type": "code",
   "execution_count": 2,
   "id": "143e9a91",
   "metadata": {},
   "outputs": [],
   "source": [
    "#numpy --> mathematics \n",
    "#list --> sequence of elements/ items \n",
    "#arrays  --> is also sequence of elements\n",
    "#performance ---> time and space complexity"
   ]
  },
  {
   "cell_type": "code",
   "execution_count": 3,
   "id": "90f780e7",
   "metadata": {},
   "outputs": [],
   "source": [
    "\n",
    "#array  --> sequence of elements\n",
    "#approach --using list\n",
    "l1  = [1,2,3,4,5,6]"
   ]
  },
  {
   "cell_type": "code",
   "execution_count": 4,
   "id": "dc74f47d",
   "metadata": {},
   "outputs": [
    {
     "name": "stdout",
     "output_type": "stream",
     "text": [
      "[1 2 3 4 5 6]\n"
     ]
    }
   ],
   "source": [
    "x = np.array(l1)\n",
    "print(x)"
   ]
  },
  {
   "cell_type": "code",
   "execution_count": 5,
   "id": "3055d6a6",
   "metadata": {},
   "outputs": [
    {
     "data": {
      "text/plain": [
       "[1, 2, 3, 4, 5, 6]"
      ]
     },
     "execution_count": 5,
     "metadata": {},
     "output_type": "execute_result"
    }
   ],
   "source": [
    "l1"
   ]
  },
  {
   "cell_type": "code",
   "execution_count": 6,
   "id": "a43b4b0d",
   "metadata": {},
   "outputs": [
    {
     "name": "stdout",
     "output_type": "stream",
     "text": [
      "<class 'numpy.ndarray'>\n"
     ]
    }
   ],
   "source": [
    "print(type(x))"
   ]
  },
  {
   "cell_type": "code",
   "execution_count": 7,
   "id": "fdfb4949",
   "metadata": {},
   "outputs": [
    {
     "name": "stdout",
     "output_type": "stream",
     "text": [
      "<class 'numpy.ndarray'>\n"
     ]
    }
   ],
   "source": [
    "print(type(x))"
   ]
  },
  {
   "cell_type": "code",
   "execution_count": 8,
   "id": "79577dae",
   "metadata": {},
   "outputs": [
    {
     "name": "stdout",
     "output_type": "stream",
     "text": [
      "(1, 2, 3, 4, 5, 6)\n",
      "<class 'tuple'>\n",
      "\n",
      "[1 2 3 4 5 6]\n",
      "<class 'numpy.ndarray'>\n",
      "\n",
      "1\n"
     ]
    }
   ],
   "source": [
    "t = (1,2,3,4,5,6)\n",
    "x1 = np.array(t)\n",
    "print(t)\n",
    "print(type(t))\n",
    "print()\n",
    "print(x1)\n",
    "print(type(x1))\n",
    "print()\n",
    "print(x1.ndim)"
   ]
  },
  {
   "cell_type": "code",
   "execution_count": 9,
   "id": "4ce863c7",
   "metadata": {},
   "outputs": [
    {
     "name": "stdout",
     "output_type": "stream",
     "text": [
      "[1 2 3 4 5 6]\n"
     ]
    }
   ],
   "source": [
    "x3 = np.array((1,2,3,4,5,6))\n",
    "print(x3)"
   ]
  },
  {
   "cell_type": "markdown",
   "id": "cc36024d",
   "metadata": {},
   "source": [
    "# ARANGE"
   ]
  },
  {
   "cell_type": "code",
   "execution_count": 10,
   "id": "8e1ba72e",
   "metadata": {},
   "outputs": [
    {
     "data": {
      "text/plain": [
       "array([0, 1, 2, 3, 4, 5, 6, 7, 8, 9])"
      ]
     },
     "execution_count": 10,
     "metadata": {},
     "output_type": "execute_result"
    }
   ],
   "source": [
    "x4 = np.arange(10)\n",
    "x4"
   ]
  },
  {
   "cell_type": "code",
   "execution_count": 11,
   "id": "f56ddc21",
   "metadata": {},
   "outputs": [
    {
     "data": {
      "text/plain": [
       "array([ 1,  2,  3,  4,  5,  6,  7,  8,  9, 10])"
      ]
     },
     "execution_count": 11,
     "metadata": {},
     "output_type": "execute_result"
    }
   ],
   "source": [
    "x5 = np.arange(1,11)\n",
    "x5"
   ]
  },
  {
   "cell_type": "markdown",
   "id": "c1f40d57",
   "metadata": {},
   "source": [
    "# Random Number generation"
   ]
  },
  {
   "cell_type": "markdown",
   "id": "fc5c4416",
   "metadata": {},
   "source": [
    "# List of sampling methods"
   ]
  },
  {
   "cell_type": "markdown",
   "id": "fbaeb946",
   "metadata": {},
   "source": [
    "- Simple Random Sampling\n",
    "- Systematic Random Sampling\n",
    "- cluster\n",
    "- Stratified"
   ]
  },
  {
   "cell_type": "code",
   "execution_count": 12,
   "id": "72af1287",
   "metadata": {},
   "outputs": [
    {
     "data": {
      "text/plain": [
       "23"
      ]
     },
     "execution_count": 12,
     "metadata": {},
     "output_type": "execute_result"
    }
   ],
   "source": [
    "a = np.random.randint(100)\n",
    "a"
   ]
  },
  {
   "cell_type": "code",
   "execution_count": 13,
   "id": "57f16e7e",
   "metadata": {},
   "outputs": [
    {
     "data": {
      "text/plain": [
       "array([ 0.33886043, -0.02944186,  0.15902959, -1.08703654,  0.01424422,\n",
       "       -1.55937148,  0.19283595, -1.09624092,  0.12088769, -0.20848305,\n",
       "        0.36931133, -0.86022842,  0.25873853, -0.40020518, -1.74763375,\n",
       "       -0.02703852,  0.31427278,  1.41694991, -0.42795747, -1.29136957,\n",
       "       -0.612514  , -0.63866576,  0.99445158,  0.36663385, -0.01776012,\n",
       "       -0.41166166, -1.40257007,  0.63153425,  0.10215618, -0.2460101 ,\n",
       "        0.7149729 ,  0.08326978,  0.14593154,  1.53654584, -1.24851107,\n",
       "       -0.66417777, -1.51428636, -2.23967184,  0.13986182,  2.62227432,\n",
       "        1.26667939, -0.09324628,  0.71340253,  0.36818732,  1.84440919,\n",
       "        0.32483595, -0.91920999,  0.38535154,  1.49234631, -0.13723256,\n",
       "       -0.92249689, -1.61030038,  1.39296981,  1.99434234,  0.12054497,\n",
       "        1.02515612, -0.19383388, -0.06631324,  0.91953733, -0.544196  ,\n",
       "        0.71925872, -0.07278256,  1.08695923, -2.44893777,  0.1245812 ,\n",
       "        0.22157619,  0.33102216,  1.37847892,  0.57219741,  1.90711203,\n",
       "       -0.56855558, -1.38568251, -2.01586676,  0.66293313,  0.93162516,\n",
       "       -0.24206067, -1.31029584, -0.73502567, -0.91585727, -0.07453591,\n",
       "        0.30680424,  0.70846709, -0.87662065,  1.26173291, -0.5979021 ,\n",
       "        0.17504392,  0.63251156, -0.1573999 ,  0.93804613,  2.26371102,\n",
       "       -0.68174814,  0.68428919,  0.57307623, -0.02190344,  0.85367284,\n",
       "        1.42032888, -0.60245024, -0.09971062,  1.28650406,  2.69506281])"
      ]
     },
     "execution_count": 13,
     "metadata": {},
     "output_type": "execute_result"
    }
   ],
   "source": [
    "a1 = np.random.randn(100)\n",
    "a1"
   ]
  },
  {
   "cell_type": "code",
   "execution_count": 14,
   "id": "e0589c0f",
   "metadata": {},
   "outputs": [],
   "source": [
    "import seaborn as sns"
   ]
  },
  {
   "cell_type": "code",
   "execution_count": 15,
   "id": "f58843e2",
   "metadata": {},
   "outputs": [
    {
     "name": "stderr",
     "output_type": "stream",
     "text": [
      "C:\\Users\\Apoorva\\AppData\\Local\\Temp\\ipykernel_31696\\3087789528.py:1: UserWarning: \n",
      "\n",
      "`distplot` is a deprecated function and will be removed in seaborn v0.14.0.\n",
      "\n",
      "Please adapt your code to use either `displot` (a figure-level function with\n",
      "similar flexibility) or `histplot` (an axes-level function for histograms).\n",
      "\n",
      "For a guide to updating your code to use the new functions, please see\n",
      "https://gist.github.com/mwaskom/de44147ed2974457ad6372750bbe5751\n",
      "\n",
      "  sns.distplot(a1)\n"
     ]
    },
    {
     "data": {
      "text/plain": [
       "<Axes: ylabel='Density'>"
      ]
     },
     "execution_count": 15,
     "metadata": {},
     "output_type": "execute_result"
    },
    {
     "data": {
      "image/png": "[encoded data removed]",
      "text/plain": [
       "<Figure size 640x480 with 1 Axes>"
      ]
     },
     "metadata": {},
     "output_type": "display_data"
    }
   ],
   "source": [
    "sns.distplot(a1)"
   ]
  },
  {
   "cell_type": "code",
   "execution_count": 16,
   "id": "838afc8f",
   "metadata": {},
   "outputs": [
    {
     "data": {
      "text/plain": [
       "0.09080519904405189"
      ]
     },
     "execution_count": 16,
     "metadata": {},
     "output_type": "execute_result"
    }
   ],
   "source": [
    "a1.mean()"
   ]
  },
  {
   "cell_type": "code",
   "execution_count": 17,
   "id": "44fbc462",
   "metadata": {},
   "outputs": [
    {
     "data": {
      "text/plain": [
       "array([0.55770945, 0.15956034, 0.96223562, 0.65592419, 0.03059922,\n",
       "       0.80741435, 0.98511701, 0.72597319, 0.17088838, 0.17671975])"
      ]
     },
     "execution_count": 17,
     "metadata": {},
     "output_type": "execute_result"
    }
   ],
   "source": [
    "a2 = np.random.rand(10)\n",
    "a2"
   ]
  },
  {
   "cell_type": "code",
   "execution_count": 18,
   "id": "63367e0a",
   "metadata": {},
   "outputs": [
    {
     "data": {
      "text/plain": [
       "array([11,  9,  2,  9,  2,  7,  8, 14,  6, 19,  3,  9, 17, 18, 14,  3,  7,\n",
       "       18,  8, 16])"
      ]
     },
     "execution_count": 18,
     "metadata": {},
     "output_type": "execute_result"
    }
   ],
   "source": [
    "a3 = np.random.randint(1,20,20)\n",
    "a3"
   ]
  },
  {
   "cell_type": "code",
   "execution_count": 19,
   "id": "6c611aac",
   "metadata": {},
   "outputs": [],
   "source": [
    "a3[0] = 8"
   ]
  },
  {
   "cell_type": "code",
   "execution_count": 20,
   "id": "ef4f9fbf",
   "metadata": {},
   "outputs": [
    {
     "data": {
      "text/plain": [
       "array([ 8,  9,  2,  9,  2,  7,  8, 14,  6, 19,  3,  9, 17, 18, 14,  3,  7,\n",
       "       18,  8, 16])"
      ]
     },
     "execution_count": 20,
     "metadata": {},
     "output_type": "execute_result"
    }
   ],
   "source": [
    "a3"
   ]
  },
  {
   "cell_type": "code",
   "execution_count": 21,
   "id": "515b1cd5",
   "metadata": {},
   "outputs": [
    {
     "data": {
      "text/plain": [
       "16"
      ]
     },
     "execution_count": 21,
     "metadata": {},
     "output_type": "execute_result"
    }
   ],
   "source": [
    "a3[-1]"
   ]
  },
  {
   "cell_type": "code",
   "execution_count": 22,
   "id": "6dcc3867",
   "metadata": {},
   "outputs": [],
   "source": [
    "# try loc and iloc"
   ]
  },
  {
   "cell_type": "code",
   "execution_count": 23,
   "id": "78cedeab",
   "metadata": {},
   "outputs": [],
   "source": [
    "#ones function\n",
    "\n",
    "#zeros function\n",
    "#linspace function---> linearly spaced numbers"
   ]
  },
  {
   "cell_type": "code",
   "execution_count": 24,
   "id": "fd95427c",
   "metadata": {},
   "outputs": [
    {
     "name": "stdout",
     "output_type": "stream",
     "text": [
      "[1 1 1 1 1]\n"
     ]
    }
   ],
   "source": [
    "a4 = np.ones(5, int)\n",
    "print(a4)"
   ]
  },
  {
   "cell_type": "code",
   "execution_count": 25,
   "id": "1a9a8fa9",
   "metadata": {},
   "outputs": [
    {
     "name": "stdout",
     "output_type": "stream",
     "text": [
      "[0 0 0 0 0]\n"
     ]
    }
   ],
   "source": [
    "a5 =  np.zeros(5, int)\n",
    "print(a5)"
   ]
  },
  {
   "cell_type": "code",
   "execution_count": 26,
   "id": "06e8d0e9",
   "metadata": {},
   "outputs": [
    {
     "data": {
      "text/plain": [
       "array([ 0. ,  2.5,  5. ,  7.5, 10. ])"
      ]
     },
     "execution_count": 26,
     "metadata": {},
     "output_type": "execute_result"
    }
   ],
   "source": [
    "a6 = np.linspace(0,10,5)\n",
    "a6"
   ]
  },
  {
   "cell_type": "markdown",
   "id": "cc608c98",
   "metadata": {},
   "source": [
    "# MATRIX"
   ]
  },
  {
   "cell_type": "code",
   "execution_count": 27,
   "id": "fb6c6c65",
   "metadata": {},
   "outputs": [],
   "source": [
    "#matrix \n",
    "#matrix has rows and columns"
   ]
  },
  {
   "cell_type": "code",
   "execution_count": 28,
   "id": "ccc6562f",
   "metadata": {},
   "outputs": [
    {
     "name": "stdout",
     "output_type": "stream",
     "text": [
      "[[1, 2, 3], [4, 5, 6], [7, 8, 9]]\n"
     ]
    }
   ],
   "source": [
    "    #approch to create 2d array \n",
    "    l3  = [[1,2,3], [4,5,6] , [7,8,9]]\n",
    "    print(l3)"
   ]
  },
  {
   "cell_type": "code",
   "execution_count": 29,
   "id": "09e4681f",
   "metadata": {},
   "outputs": [
    {
     "name": "stdout",
     "output_type": "stream",
     "text": [
      "[[1 2 3]\n",
      " [4 5 6]\n",
      " [7 8 9]]\n"
     ]
    }
   ],
   "source": [
    "a7  = np.array(l3)\n",
    "print(a7)"
   ]
  },
  {
   "cell_type": "code",
   "execution_count": 30,
   "id": "61fca7ec",
   "metadata": {},
   "outputs": [
    {
     "name": "stdout",
     "output_type": "stream",
     "text": [
      "2\n"
     ]
    }
   ],
   "source": [
    "print(a7.ndim)"
   ]
  },
  {
   "cell_type": "code",
   "execution_count": 31,
   "id": "80b412d0",
   "metadata": {},
   "outputs": [
    {
     "name": "stdout",
     "output_type": "stream",
     "text": [
      "2\n",
      "-------\n",
      "(3, 3)\n",
      "-------\n",
      "int32\n",
      "------\n"
     ]
    }
   ],
   "source": [
    "        print(a7.ndim)\n",
    "        print('-------')\n",
    "        print(a7.shape)\n",
    "        print('-------')\n",
    "        print(a7.dtype)\n",
    "        print('------')"
   ]
  },
  {
   "cell_type": "markdown",
   "id": "e6b7c08a",
   "metadata": {},
   "source": [
    "# Reshape"
   ]
  },
  {
   "cell_type": "code",
   "execution_count": 32,
   "id": "bf180cc0",
   "metadata": {},
   "outputs": [],
   "source": [
    "#reshape function\n",
    "#reshape will convert from one dimension to another dimension\n",
    "#2d to 1d ??? "
   ]
  },
  {
   "cell_type": "code",
   "execution_count": 33,
   "id": "694294d1",
   "metadata": {},
   "outputs": [
    {
     "data": {
      "text/plain": [
       "array([0, 1, 2, 3, 4, 5, 6, 7, 8, 9])"
      ]
     },
     "execution_count": 33,
     "metadata": {},
     "output_type": "execute_result"
    }
   ],
   "source": [
    "x = np.arange(10)\n",
    "x"
   ]
  },
  {
   "cell_type": "code",
   "execution_count": 34,
   "id": "6b5852ec",
   "metadata": {},
   "outputs": [
    {
     "data": {
      "text/plain": [
       "array([[0, 1],\n",
       "       [2, 3],\n",
       "       [4, 5],\n",
       "       [6, 7],\n",
       "       [8, 9]])"
      ]
     },
     "execution_count": 34,
     "metadata": {},
     "output_type": "execute_result"
    }
   ],
   "source": [
    "x1 = x.reshape(5,2)\n",
    "x1"
   ]
  },
  {
   "cell_type": "code",
   "execution_count": 35,
   "id": "c993ffa0",
   "metadata": {},
   "outputs": [
    {
     "data": {
      "text/plain": [
       "array([[1, 2, 3],\n",
       "       [4, 5, 6],\n",
       "       [7, 8, 9]])"
      ]
     },
     "execution_count": 35,
     "metadata": {},
     "output_type": "execute_result"
    }
   ],
   "source": [
    "a7 "
   ]
  },
  {
   "cell_type": "code",
   "execution_count": 36,
   "id": "0be9f133",
   "metadata": {},
   "outputs": [
    {
     "data": {
      "text/plain": [
       "array([[1, 2],\n",
       "       [4, 5]])"
      ]
     },
     "execution_count": 36,
     "metadata": {},
     "output_type": "execute_result"
    }
   ],
   "source": [
    "a7[0:2, 0:2]"
   ]
  },
  {
   "cell_type": "code",
   "execution_count": 37,
   "id": "b902c759",
   "metadata": {},
   "outputs": [],
   "source": [
    "#ones_like\n",
    "    #zeros_like\n",
    "    #identity\n",
    "    #eye\n",
    "    #sum  along columnwise\n",
    "    #sum along rowwise\n",
    "    #transpose\n",
    "    #vtstack\n",
    "    #hstack\n",
    "    #concatenating\n",
    "    #log\n",
    "    #log10\n",
    "    #sin\n",
    "    #cos\n",
    "    #tan\n",
    "    #min\n",
    "    #max\n",
    "    #avg\n",
    "    #.T\n",
    "    #matmul\n",
    "    #add, sub, mul\n",
    "    #save , load "
   ]
  },
  {
   "cell_type": "code",
   "execution_count": 38,
   "id": "562cca8c",
   "metadata": {},
   "outputs": [
    {
     "data": {
      "text/plain": [
       "array([[0, 1],\n",
       "       [2, 3],\n",
       "       [4, 5],\n",
       "       [6, 7],\n",
       "       [8, 9]])"
      ]
     },
     "execution_count": 38,
     "metadata": {},
     "output_type": "execute_result"
    }
   ],
   "source": [
    "a8 = np.arange(10).reshape(5,2)\n",
    "a8"
   ]
  },
  {
   "cell_type": "code",
   "execution_count": 39,
   "id": "bc7d4cac",
   "metadata": {},
   "outputs": [
    {
     "data": {
      "text/plain": [
       "array([[1, 1],\n",
       "       [1, 1],\n",
       "       [1, 1],\n",
       "       [1, 1],\n",
       "       [1, 1]])"
      ]
     },
     "execution_count": 39,
     "metadata": {},
     "output_type": "execute_result"
    }
   ],
   "source": [
    "a9 = np.ones_like(a8)\n",
    "a9"
   ]
  },
  {
   "cell_type": "code",
   "execution_count": 40,
   "id": "02cd4926",
   "metadata": {},
   "outputs": [
    {
     "name": "stdout",
     "output_type": "stream",
     "text": [
      "[[0 0]\n",
      " [0 0]\n",
      " [0 0]\n",
      " [0 0]\n",
      " [0 0]]\n"
     ]
    }
   ],
   "source": [
    "a10 = np.zeros_like(a8)\n",
    "print(a10)"
   ]
  },
  {
   "cell_type": "code",
   "execution_count": 41,
   "id": "51b6d1c9",
   "metadata": {},
   "outputs": [
    {
     "data": {
      "text/plain": [
       "array([[1, 0, 0, 0, 0],\n",
       "       [0, 1, 0, 0, 0],\n",
       "       [0, 0, 1, 0, 0],\n",
       "       [0, 0, 0, 1, 0],\n",
       "       [0, 0, 0, 0, 1]])"
      ]
     },
     "execution_count": 41,
     "metadata": {},
     "output_type": "execute_result"
    }
   ],
   "source": [
    "a11 = np.identity(5, int)\n",
    "a11"
   ]
  },
  {
   "cell_type": "code",
   "execution_count": 42,
   "id": "0aafa97d",
   "metadata": {},
   "outputs": [
    {
     "data": {
      "text/plain": [
       "array([[0., 1., 0., 0., 0.],\n",
       "       [0., 0., 1., 0., 0.],\n",
       "       [0., 0., 0., 1., 0.],\n",
       "       [0., 0., 0., 0., 1.],\n",
       "       [0., 0., 0., 0., 0.]])"
      ]
     },
     "execution_count": 42,
     "metadata": {},
     "output_type": "execute_result"
    }
   ],
   "source": [
    "a12 = np.eye(5, k =1)\n",
    "a12"
   ]
  },
  {
   "cell_type": "markdown",
   "id": "01127657",
   "metadata": {},
   "source": [
    "# RAVEL"
   ]
  },
  {
   "cell_type": "markdown",
   "id": "c378ff62",
   "metadata": {},
   "source": [
    "- Ravel is used to reduction of dimensions or flattening the matrix.\n",
    "- converting 2 dim to 1 dim"
   ]
  },
  {
   "cell_type": "code",
   "execution_count": 43,
   "id": "38515e13",
   "metadata": {},
   "outputs": [
    {
     "name": "stdout",
     "output_type": "stream",
     "text": [
      "[[1 2 3]\n",
      " [4 5 6]]\n"
     ]
    }
   ],
   "source": [
    "x11  = np.array([[1,2,3] , [4,5,6]])\n",
    "print(x11)"
   ]
  },
  {
   "cell_type": "code",
   "execution_count": 44,
   "id": "487b6fae",
   "metadata": {},
   "outputs": [
    {
     "name": "stdout",
     "output_type": "stream",
     "text": [
      "[1 2 3 4 5 6]\n"
     ]
    }
   ],
   "source": [
    "x12 = np.ravel(x11)\n",
    "print(x12)"
   ]
  },
  {
   "cell_type": "markdown",
   "id": "7493ed33",
   "metadata": {},
   "source": [
    "# TRANSPOSE METHOD"
   ]
  },
  {
   "cell_type": "code",
   "execution_count": 45,
   "id": "26e859a0",
   "metadata": {},
   "outputs": [
    {
     "data": {
      "text/plain": [
       "array([[0, 1],\n",
       "       [2, 3],\n",
       "       [4, 5],\n",
       "       [6, 7],\n",
       "       [8, 9]])"
      ]
     },
     "execution_count": 45,
     "metadata": {},
     "output_type": "execute_result"
    }
   ],
   "source": [
    "x1"
   ]
  },
  {
   "cell_type": "code",
   "execution_count": 46,
   "id": "adf23d8e",
   "metadata": {},
   "outputs": [
    {
     "data": {
      "text/plain": [
       "array([[0, 2, 4, 6, 8],\n",
       "       [1, 3, 5, 7, 9]])"
      ]
     },
     "execution_count": 46,
     "metadata": {},
     "output_type": "execute_result"
    }
   ],
   "source": [
    "t_x1 = np.transpose(x1)\n",
    "t_x1"
   ]
  },
  {
   "cell_type": "code",
   "execution_count": 47,
   "id": "28172ced",
   "metadata": {},
   "outputs": [
    {
     "data": {
      "text/plain": [
       "array([[0, 2, 4, 6, 8],\n",
       "       [1, 3, 5, 7, 9]])"
      ]
     },
     "execution_count": 47,
     "metadata": {},
     "output_type": "execute_result"
    }
   ],
   "source": [
    "t1_x1 = x1.T\n",
    "t1_x1"
   ]
  },
  {
   "cell_type": "markdown",
   "id": "cc9bb0b5",
   "metadata": {},
   "source": [
    "# Concatinating 2 matrix"
   ]
  },
  {
   "cell_type": "markdown",
   "id": "ed4b1b97",
   "metadata": {},
   "source": [
    "- stacking of array\n",
    "- vstack / horizontal stacking #hstack\n",
    "- concatenate ???"
   ]
  },
  {
   "cell_type": "code",
   "execution_count": 48,
   "id": "98d503ae",
   "metadata": {},
   "outputs": [
    {
     "name": "stdout",
     "output_type": "stream",
     "text": [
      "[[1 2 3]\n",
      " [4 5 6]]\n",
      "------\n",
      "[[ 7  8  9]\n",
      " [10 11 12]]\n"
     ]
    }
   ],
   "source": [
    "a14  = np.array([[1,2,3] , [4,5,6]])\n",
    "a15 = np.array([[7,8,9], [10,11, 12]])\n",
    "print(a14)\n",
    "print(\"------\")\n",
    "print(a15)"
   ]
  },
  {
   "cell_type": "code",
   "execution_count": 49,
   "id": "d0ef1ef2",
   "metadata": {},
   "outputs": [
    {
     "data": {
      "text/plain": [
       "array([[ 1,  2,  3],\n",
       "       [ 4,  5,  6],\n",
       "       [ 7,  8,  9],\n",
       "       [10, 11, 12]])"
      ]
     },
     "execution_count": 49,
     "metadata": {},
     "output_type": "execute_result"
    }
   ],
   "source": [
    "# Vertical stack - vertical columns concatination\n",
    "stacked_v = np.vstack((a14,a15))\n",
    "stacked_v"
   ]
  },
  {
   "cell_type": "code",
   "execution_count": 50,
   "id": "6e817cb8",
   "metadata": {},
   "outputs": [
    {
     "data": {
      "text/plain": [
       "array([[ 1,  2,  3,  7,  8,  9],\n",
       "       [ 4,  5,  6, 10, 11, 12]])"
      ]
     },
     "execution_count": 50,
     "metadata": {},
     "output_type": "execute_result"
    }
   ],
   "source": [
    "stacked_h = np.hstack((a14,a15))\n",
    "stacked_h"
   ]
  },
  {
   "cell_type": "code",
   "execution_count": 51,
   "id": "a0e134fd",
   "metadata": {},
   "outputs": [
    {
     "name": "stdout",
     "output_type": "stream",
     "text": [
      "[1 2 3 4 5]\n",
      "------\n",
      "[2 3 4 5 6]\n"
     ]
    }
   ],
   "source": [
    "x5  = np.array([1,2,3,4,5])\n",
    "x6  = np.array([2,3,4,5,6])\n",
    "print(x5)\n",
    "print(\"------\")\n",
    "print(x6)"
   ]
  },
  {
   "cell_type": "markdown",
   "id": "df6061fe",
   "metadata": {},
   "source": [
    "# Basic Mathematical Functions"
   ]
  },
  {
   "cell_type": "code",
   "execution_count": 52,
   "id": "fdff7873",
   "metadata": {},
   "outputs": [
    {
     "name": "stdout",
     "output_type": "stream",
     "text": [
      "[ 3  5  7  9 11]\n"
     ]
    }
   ],
   "source": [
    "print(x5+x6)"
   ]
  },
  {
   "cell_type": "code",
   "execution_count": 53,
   "id": "1615cfd3",
   "metadata": {},
   "outputs": [
    {
     "name": "stdout",
     "output_type": "stream",
     "text": [
      "[-1 -1 -1 -1 -1]\n"
     ]
    }
   ],
   "source": [
    "print(x5-x6)"
   ]
  },
  {
   "cell_type": "code",
   "execution_count": 54,
   "id": "53324fe4",
   "metadata": {},
   "outputs": [
    {
     "name": "stdout",
     "output_type": "stream",
     "text": [
      "[ 2  6 12 20 30]\n"
     ]
    }
   ],
   "source": [
    "print(x5*x6)"
   ]
  },
  {
   "cell_type": "code",
   "execution_count": 55,
   "id": "c38ac740",
   "metadata": {},
   "outputs": [
    {
     "name": "stdout",
     "output_type": "stream",
     "text": [
      "[0.5        0.66666667 0.75       0.8        0.83333333]\n"
     ]
    }
   ],
   "source": [
    "print(x5/x6)"
   ]
  },
  {
   "cell_type": "code",
   "execution_count": 56,
   "id": "8b632961",
   "metadata": {},
   "outputs": [
    {
     "name": "stdout",
     "output_type": "stream",
     "text": [
      "[ 1  4  9 16 25]\n"
     ]
    }
   ],
   "source": [
    "print(x5**2)"
   ]
  },
  {
   "cell_type": "code",
   "execution_count": 58,
   "id": "7f4612da",
   "metadata": {},
   "outputs": [
    {
     "name": "stdout",
     "output_type": "stream",
     "text": [
      "15\n"
     ]
    }
   ],
   "source": [
    "print(sum(x5))"
   ]
  },
  {
   "cell_type": "code",
   "execution_count": 60,
   "id": "df576a5e",
   "metadata": {},
   "outputs": [
    {
     "name": "stdout",
     "output_type": "stream",
     "text": [
      "2\n"
     ]
    }
   ],
   "source": [
    "print(min(x6))"
   ]
  },
  {
   "cell_type": "code",
   "execution_count": 61,
   "id": "105b642f",
   "metadata": {},
   "outputs": [
    {
     "name": "stdout",
     "output_type": "stream",
     "text": [
      "6\n"
     ]
    }
   ],
   "source": [
    "print(max(x6))"
   ]
  },
  {
   "cell_type": "code",
   "execution_count": 62,
   "id": "84997925",
   "metadata": {},
   "outputs": [
    {
     "name": "stdout",
     "output_type": "stream",
     "text": [
      "[0.         0.69314718 1.09861229 1.38629436 1.60943791]\n"
     ]
    }
   ],
   "source": [
    "print(np.log(x5))"
   ]
  },
  {
   "cell_type": "code",
   "execution_count": 63,
   "id": "24b89267",
   "metadata": {},
   "outputs": [
    {
     "name": "stdout",
     "output_type": "stream",
     "text": [
      "[0.         0.30103    0.47712125 0.60205999 0.69897   ]\n"
     ]
    }
   ],
   "source": [
    "print(np.log10(x5))"
   ]
  },
  {
   "cell_type": "code",
   "execution_count": 64,
   "id": "3c75d977",
   "metadata": {},
   "outputs": [
    {
     "name": "stdout",
     "output_type": "stream",
     "text": [
      "[ 0.84147098  0.90929743  0.14112001 -0.7568025  -0.95892427]\n"
     ]
    }
   ],
   "source": [
    "print(np.sin(x5))"
   ]
  },
  {
   "cell_type": "code",
   "execution_count": 65,
   "id": "30d810de",
   "metadata": {},
   "outputs": [
    {
     "name": "stdout",
     "output_type": "stream",
     "text": [
      "[ 0.54030231 -0.41614684 -0.9899925  -0.65364362  0.28366219]\n"
     ]
    }
   ],
   "source": [
    "print(np.cos(x5))"
   ]
  },
  {
   "cell_type": "code",
   "execution_count": 66,
   "id": "c17a747d",
   "metadata": {},
   "outputs": [
    {
     "name": "stdout",
     "output_type": "stream",
     "text": [
      "[ 1.55740772 -2.18503986 -0.14254654  1.15782128 -3.38051501]\n"
     ]
    }
   ],
   "source": [
    "print(np.tan(x5))"
   ]
  },
  {
   "cell_type": "markdown",
   "id": "8d632910",
   "metadata": {},
   "source": [
    "# MATRIX MULTIPLICATION"
   ]
  },
  {
   "cell_type": "code",
   "execution_count": 67,
   "id": "78f38f24",
   "metadata": {},
   "outputs": [
    {
     "name": "stdout",
     "output_type": "stream",
     "text": [
      "[[1 2]\n",
      " [3 1]]\n",
      "----------\n",
      "[[4 1]\n",
      " [2 2]]\n"
     ]
    }
   ],
   "source": [
    "a = np.array([[1, 2],[3, 1]])\n",
    "b = np.array([[4, 1], [2, 2]])\n",
    "print(a)\n",
    "print(\"----------\")\n",
    "print(b)"
   ]
  },
  {
   "cell_type": "code",
   "execution_count": 69,
   "id": "03f054d9",
   "metadata": {},
   "outputs": [
    {
     "data": {
      "text/plain": [
       "array([[ 8,  5],\n",
       "       [14,  5]])"
      ]
     },
     "execution_count": 69,
     "metadata": {},
     "output_type": "execute_result"
    }
   ],
   "source": [
    "mat_ab = np.matmul(a,b)\n",
    "mat_ab"
   ]
  },
  {
   "cell_type": "markdown",
   "id": "b94c304e",
   "metadata": {},
   "source": [
    "# check the diff between array and list"
   ]
  },
  {
   "cell_type": "code",
   "execution_count": 70,
   "id": "b7a611d4",
   "metadata": {},
   "outputs": [],
   "source": [
    "import time \n",
    "import sys"
   ]
  },
  {
   "cell_type": "code",
   "execution_count": 71,
   "id": "e2e40dc9",
   "metadata": {},
   "outputs": [
    {
     "name": "stdout",
     "output_type": "stream",
     "text": [
      "28000\n"
     ]
    }
   ],
   "source": [
    "l = range(1000)\n",
    "print(sys.getsizeof(1000)*len(l))"
   ]
  },
  {
   "cell_type": "code",
   "execution_count": 72,
   "id": "300af255",
   "metadata": {},
   "outputs": [
    {
     "name": "stdout",
     "output_type": "stream",
     "text": [
      "4000\n"
     ]
    }
   ],
   "source": [
    "ar = np.arange(1000)\n",
    "print(ar.size*ar.itemsize)"
   ]
  },
  {
   "cell_type": "code",
   "execution_count": 73,
   "id": "a15b5743",
   "metadata": {},
   "outputs": [],
   "source": [
    "size = 1000000\n",
    "\n",
    "\n",
    "l1 = range(size)\n",
    "l2 = range(size)\n",
    "\n",
    "a1 = np.arange(size)\n",
    "a2 = np.arange(size)"
   ]
  },
  {
   "cell_type": "code",
   "execution_count": 74,
   "id": "d5fe032e",
   "metadata": {},
   "outputs": [
    {
     "name": "stdout",
     "output_type": "stream",
     "text": [
      "python list took:  226.87554359436035\n"
     ]
    }
   ],
   "source": [
    "# Python list\n",
    "start = time.time()\n",
    "result = [(x+y) for x,y in zip(l1,l2)]\n",
    "print(\"python list took: \", (time.time()-start)*1000)"
   ]
  },
  {
   "cell_type": "code",
   "execution_count": 75,
   "id": "8d882ee3",
   "metadata": {},
   "outputs": [
    {
     "name": "stdout",
     "output_type": "stream",
     "text": [
      "Numpy took:  32.958030700683594\n"
     ]
    }
   ],
   "source": [
    "# NP ARRAY\n",
    "start = time.time()\n",
    "result = a1+a2\n",
    "print(\"Numpy took: \", (time.time()-start)*1000)"
   ]
  },
  {
   "cell_type": "code",
   "execution_count": null,
   "id": "f9ae873c",
   "metadata": {},
   "outputs": [],
   "source": []
  }
 ],
 "metadata": {
  "kernelspec": {
   "display_name": "Python [conda env:base] *",
   "language": "python",
   "name": "conda-base-py"
  },
  "language_info": {
   "codemirror_mode": {
    "name": "ipython",
    "version": 3
   },
   "file_extension": ".py",
   "mimetype": "text/x-python",
   "name": "python",
   "nbconvert_exporter": "python",
   "pygments_lexer": "ipython3",
   "version": "3.13.5"
  }
 },
 "nbformat": 4,
 "nbformat_minor": 5
}
